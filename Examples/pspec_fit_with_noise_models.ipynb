{
 "cells": [
  {
   "cell_type": "code",
   "execution_count": 1,
   "id": "2600976e-e1f5-4ae4-a86b-5ef1eb10cca2",
   "metadata": {},
   "outputs": [],
   "source": [
    "%matplotlib inline"
   ]
  },
  {
   "cell_type": "code",
   "execution_count": null,
   "id": "e0377c58-4d12-470a-a57f-2caa05c4f7aa",
   "metadata": {},
   "outputs": [],
   "source": [
    "from turbustat.statistics import PowerSpectrum\n",
    "\n",
    "from turbustat.simulator import make_extended"
   ]
  },
  {
   "cell_type": "code",
   "execution_count": null,
   "id": "e471d202-6249-4f22-aec4-2d8060f75974",
   "metadata": {},
   "outputs": [],
   "source": [
    "img = make_extended()"
   ]
  },
  {
   "cell_type": "code",
   "execution_count": 3,
   "id": "1584ccb5-d51d-4e25-9f62-aa199ca8644e",
   "metadata": {},
   "outputs": [
    {
     "name": "stdout",
     "output_type": "stream",
     "text": [
      "Object `make_extended` not found.\n"
     ]
    }
   ],
   "source": [
    "make_extended??"
   ]
  },
  {
   "cell_type": "code",
   "execution_count": null,
   "id": "34597778-278c-408c-b3fe-6ae886348edb",
   "metadata": {},
   "outputs": [],
   "source": []
  }
 ],
 "metadata": {
  "kernelspec": {
   "display_name": "Python 3 (ipykernel)",
   "language": "python",
   "name": "python3"
  },
  "language_info": {
   "codemirror_mode": {
    "name": "ipython",
    "version": 3
   },
   "file_extension": ".py",
   "mimetype": "text/x-python",
   "name": "python",
   "nbconvert_exporter": "python",
   "pygments_lexer": "ipython3",
   "version": "3.8.10"
  }
 },
 "nbformat": 4,
 "nbformat_minor": 5
}
